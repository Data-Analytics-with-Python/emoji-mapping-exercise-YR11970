{
  "nbformat": 4,
  "nbformat_minor": 0,
  "metadata": {
    "colab": {
      "provenance": [],
      "include_colab_link": true
    },
    "kernelspec": {
      "name": "python3",
      "display_name": "Python 3"
    },
    "language_info": {
      "name": "python"
    }
  },
  "cells": [
    {
      "cell_type": "markdown",
      "metadata": {
        "id": "view-in-github",
        "colab_type": "text"
      },
      "source": [
        "<a href=\"https://colab.research.google.com/github/Data-Analytics-with-Python/emoji-mapping-exercise-YR11970/blob/main/emoji_map.ipynb\" target=\"_parent\"><img src=\"https://colab.research.google.com/assets/colab-badge.svg\" alt=\"Open In Colab\"/></a>"
      ]
    },
    {
      "cell_type": "code",
      "execution_count": null,
      "metadata": {
        "id": "QTEBoiVlqXnx"
      },
      "outputs": [],
      "source": [
        "# Define a dictional that maps words into emojis\n",
        "EMOJI_MAP = {\n",
        "    \"happy\": \"😀\",\n",
        "    \"joyful\": \"😄\",\n",
        "    \"excited\": \"🤩\",\n",
        "    \"proud\": \"😌\",\n",
        "    \"calm\": \"🙂\",\n",
        "    \"confident\": \"😎\",\n",
        "    \"playful\": \"😜\",\n",
        "    \"silly\": \"🤪\",\n",
        "    \"angry\": \"😡\",\n",
        "    \"frustrated\": \"😤\",\n",
        "    \"sad\": \"😢\",\n",
        "    \"lonely\": \"🥺\",\n",
        "    \"scared\": \"😱\",\n",
        "    \"worried\": \"😟\",\n",
        "    \"tired\": \"😴\",\n",
        "    \"confused\": \"🤔\",\n",
        "    \"surprised\": \"😮\",\n",
        "    \"loving\": \"❤️\",\n",
        "    \"grateful\": \"🙏\"\n",
        "}"
      ]
    },
    {
      "cell_type": "code",
      "source": [
        "# Replace the content of 'text' with your own sentence. No punctuaton marks!\n",
        "text = \"I am happy\""
      ],
      "metadata": {
        "id": "yg-oV8D1qYuj"
      },
      "execution_count": 3,
      "outputs": []
    },
    {
      "cell_type": "code",
      "source": [
        "from posixpath import join\n",
        "# Split text into a list of words using .split() function\n",
        "words = text.split()\n",
        "\n",
        "word_emoji_list = []\n",
        "\n",
        "for word in words:\n",
        "    if word in EMOJI_MAP: #check if the current word is in the dictionary defined\n",
        "        word_emoji = EMOJI_MAP[word] #get the word emoji\n",
        "\n",
        "    else:\n",
        "      word_emoji = word\n",
        "\n",
        "    word_emoji_list.append(word_emoji)\n",
        "\n",
        "text_output = \" \".join(word_emoji_list) #joining the list with space in between the elements\n",
        "print(text_output) #or can use display function"
      ],
      "metadata": {
        "id": "xFX3D2omqxjB",
        "outputId": "2876d834-169a-4bdb-b208-26f3345a3aed",
        "colab": {
          "base_uri": "https://localhost:8080/"
        }
      },
      "execution_count": 9,
      "outputs": [
        {
          "output_type": "stream",
          "name": "stdout",
          "text": [
            "I am 😀\n"
          ]
        }
      ]
    },
    {
      "cell_type": "code",
      "source": [
        "# Use a for loop to enumerate the list of words. If the word is in EMOJI_MAP, replace it with the corresponding emoji\n",
        "\n"
      ],
      "metadata": {
        "id": "MmYdSeYG0Ei6"
      },
      "execution_count": null,
      "outputs": []
    }
  ]
}